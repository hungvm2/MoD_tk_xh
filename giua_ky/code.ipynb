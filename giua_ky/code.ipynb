{
 "cells": [
  {
   "cell_type": "code",
   "execution_count": 2,
   "id": "58ca5bd4",
   "metadata": {},
   "outputs": [
    {
     "name": "stdout",
     "output_type": "stream",
     "text": [
      "odict_keys(['gss'])\n"
     ]
    }
   ],
   "source": [
    "import pyreadr\n",
    "\n",
    "result = pyreadr.read_r('./gss.rdata') # also works for Rds\n",
    "print(result.keys()) "
   ]
  },
  {
   "cell_type": "code",
   "execution_count": 3,
   "id": "05186be3",
   "metadata": {},
   "outputs": [],
   "source": [
    "df = result[\"gss\"]"
   ]
  },
  {
   "cell_type": "code",
   "execution_count": 4,
   "id": "531c96cf",
   "metadata": {},
   "outputs": [
    {
     "data": {
      "text/html": [
       "<div>\n",
       "<style scoped>\n",
       "    .dataframe tbody tr th:only-of-type {\n",
       "        vertical-align: middle;\n",
       "    }\n",
       "\n",
       "    .dataframe tbody tr th {\n",
       "        vertical-align: top;\n",
       "    }\n",
       "\n",
       "    .dataframe thead th {\n",
       "        text-align: right;\n",
       "    }\n",
       "</style>\n",
       "<table border=\"1\" class=\"dataframe\">\n",
       "  <thead>\n",
       "    <tr style=\"text-align: right;\">\n",
       "      <th></th>\n",
       "      <th>YEAR</th>\n",
       "      <th>WRKSTAT</th>\n",
       "      <th>MARITAL</th>\n",
       "      <th>AGEWED</th>\n",
       "      <th>CHILDS</th>\n",
       "      <th>AGE</th>\n",
       "      <th>EDUC</th>\n",
       "      <th>PAEDUC</th>\n",
       "      <th>MAEDUC</th>\n",
       "      <th>DEGREE</th>\n",
       "      <th>...</th>\n",
       "      <th>ALIKE3</th>\n",
       "      <th>ALIKE4</th>\n",
       "      <th>ALIKE5</th>\n",
       "      <th>ALIKE6</th>\n",
       "      <th>ALIKE7</th>\n",
       "      <th>ALIKE8</th>\n",
       "      <th>AGEWEDCR</th>\n",
       "      <th>HAPUNHAP</th>\n",
       "      <th>REALINC</th>\n",
       "      <th>WORDSUM</th>\n",
       "    </tr>\n",
       "  </thead>\n",
       "  <tbody>\n",
       "    <tr>\n",
       "      <th>0</th>\n",
       "      <td>1972</td>\n",
       "      <td>1</td>\n",
       "      <td>5</td>\n",
       "      <td>NaN</td>\n",
       "      <td>0</td>\n",
       "      <td>23</td>\n",
       "      <td>16</td>\n",
       "      <td>10</td>\n",
       "      <td>NaN</td>\n",
       "      <td>3</td>\n",
       "      <td>...</td>\n",
       "      <td>NaN</td>\n",
       "      <td>NaN</td>\n",
       "      <td>NaN</td>\n",
       "      <td>NaN</td>\n",
       "      <td>NaN</td>\n",
       "      <td>NaN</td>\n",
       "      <td>NaN</td>\n",
       "      <td>NaN</td>\n",
       "      <td>18951</td>\n",
       "      <td>NaN</td>\n",
       "    </tr>\n",
       "    <tr>\n",
       "      <th>1</th>\n",
       "      <td>1972</td>\n",
       "      <td>5</td>\n",
       "      <td>1</td>\n",
       "      <td>21</td>\n",
       "      <td>5</td>\n",
       "      <td>70</td>\n",
       "      <td>10</td>\n",
       "      <td>8</td>\n",
       "      <td>8</td>\n",
       "      <td>0</td>\n",
       "      <td>...</td>\n",
       "      <td>NaN</td>\n",
       "      <td>NaN</td>\n",
       "      <td>NaN</td>\n",
       "      <td>NaN</td>\n",
       "      <td>NaN</td>\n",
       "      <td>NaN</td>\n",
       "      <td>NaN</td>\n",
       "      <td>NaN</td>\n",
       "      <td>24366</td>\n",
       "      <td>NaN</td>\n",
       "    </tr>\n",
       "    <tr>\n",
       "      <th>2</th>\n",
       "      <td>1972</td>\n",
       "      <td>2</td>\n",
       "      <td>1</td>\n",
       "      <td>20</td>\n",
       "      <td>4</td>\n",
       "      <td>48</td>\n",
       "      <td>12</td>\n",
       "      <td>8</td>\n",
       "      <td>8</td>\n",
       "      <td>1</td>\n",
       "      <td>...</td>\n",
       "      <td>NaN</td>\n",
       "      <td>NaN</td>\n",
       "      <td>NaN</td>\n",
       "      <td>NaN</td>\n",
       "      <td>NaN</td>\n",
       "      <td>NaN</td>\n",
       "      <td>NaN</td>\n",
       "      <td>NaN</td>\n",
       "      <td>24366</td>\n",
       "      <td>NaN</td>\n",
       "    </tr>\n",
       "    <tr>\n",
       "      <th>3</th>\n",
       "      <td>1972</td>\n",
       "      <td>1</td>\n",
       "      <td>1</td>\n",
       "      <td>24</td>\n",
       "      <td>0</td>\n",
       "      <td>27</td>\n",
       "      <td>17</td>\n",
       "      <td>16</td>\n",
       "      <td>12</td>\n",
       "      <td>3</td>\n",
       "      <td>...</td>\n",
       "      <td>NaN</td>\n",
       "      <td>NaN</td>\n",
       "      <td>NaN</td>\n",
       "      <td>NaN</td>\n",
       "      <td>NaN</td>\n",
       "      <td>NaN</td>\n",
       "      <td>NaN</td>\n",
       "      <td>NaN</td>\n",
       "      <td>30458</td>\n",
       "      <td>NaN</td>\n",
       "    </tr>\n",
       "    <tr>\n",
       "      <th>4</th>\n",
       "      <td>1972</td>\n",
       "      <td>7</td>\n",
       "      <td>1</td>\n",
       "      <td>22</td>\n",
       "      <td>2</td>\n",
       "      <td>61</td>\n",
       "      <td>12</td>\n",
       "      <td>8</td>\n",
       "      <td>8</td>\n",
       "      <td>1</td>\n",
       "      <td>...</td>\n",
       "      <td>NaN</td>\n",
       "      <td>NaN</td>\n",
       "      <td>NaN</td>\n",
       "      <td>NaN</td>\n",
       "      <td>NaN</td>\n",
       "      <td>NaN</td>\n",
       "      <td>NaN</td>\n",
       "      <td>NaN</td>\n",
       "      <td>50763</td>\n",
       "      <td>NaN</td>\n",
       "    </tr>\n",
       "  </tbody>\n",
       "</table>\n",
       "<p>5 rows × 36 columns</p>\n",
       "</div>"
      ],
      "text/plain": [
       "   YEAR  WRKSTAT  MARITAL AGEWED CHILDS AGE EDUC PAEDUC MAEDUC DEGREE  ...  \\\n",
       "0  1972        1        5    NaN      0  23   16     10    NaN      3  ...   \n",
       "1  1972        5        1     21      5  70   10      8      8      0  ...   \n",
       "2  1972        2        1     20      4  48   12      8      8      1  ...   \n",
       "3  1972        1        1     24      0  27   17     16     12      3  ...   \n",
       "4  1972        7        1     22      2  61   12      8      8      1  ...   \n",
       "\n",
       "  ALIKE3 ALIKE4  ALIKE5  ALIKE6 ALIKE7 ALIKE8  AGEWEDCR  HAPUNHAP REALINC  \\\n",
       "0    NaN    NaN     NaN     NaN    NaN    NaN       NaN       NaN   18951   \n",
       "1    NaN    NaN     NaN     NaN    NaN    NaN       NaN       NaN   24366   \n",
       "2    NaN    NaN     NaN     NaN    NaN    NaN       NaN       NaN   24366   \n",
       "3    NaN    NaN     NaN     NaN    NaN    NaN       NaN       NaN   30458   \n",
       "4    NaN    NaN     NaN     NaN    NaN    NaN       NaN       NaN   50763   \n",
       "\n",
       "   WORDSUM  \n",
       "0      NaN  \n",
       "1      NaN  \n",
       "2      NaN  \n",
       "3      NaN  \n",
       "4      NaN  \n",
       "\n",
       "[5 rows x 36 columns]"
      ]
     },
     "execution_count": 4,
     "metadata": {},
     "output_type": "execute_result"
    }
   ],
   "source": [
    "df.head(5)"
   ]
  },
  {
   "cell_type": "code",
   "execution_count": 5,
   "id": "7e8154aa",
   "metadata": {},
   "outputs": [
    {
     "data": {
      "text/plain": [
       "YEAR        38116\n",
       "WRKSTAT     38116\n",
       "MARITAL     38116\n",
       "AGEWED      25581\n",
       "CHILDS      37982\n",
       "AGE         37981\n",
       "EDUC        37998\n",
       "PAEDUC      27401\n",
       "MAEDUC      31783\n",
       "DEGREE      37979\n",
       "PADEG       29531\n",
       "MADEG       33677\n",
       "FEMALE      38116\n",
       "RACE        38116\n",
       "INCOME      33147\n",
       "INCOME98     2503\n",
       "RELIG       38116\n",
       "FUND        36852\n",
       "ATTEND      37724\n",
       "RELITEN     33699\n",
       "PRAY        15103\n",
       "PRAYER      19563\n",
       "BIBLE       14261\n",
       "HAPPY       38116\n",
       "ALIKE1       2992\n",
       "ALIKE2       2992\n",
       "ALIKE3       2992\n",
       "ALIKE4       2992\n",
       "ALIKE5       2992\n",
       "ALIKE6       2992\n",
       "ALIKE7       2992\n",
       "ALIKE8       2992\n",
       "AGEWEDCR      181\n",
       "HAPUNHAP     2643\n",
       "REALINC     32118\n",
       "WORDSUM     18925\n",
       "dtype: int64"
      ]
     },
     "execution_count": 5,
     "metadata": {},
     "output_type": "execute_result"
    }
   ],
   "source": [
    "df.count()"
   ]
  },
  {
   "cell_type": "code",
   "execution_count": 57,
   "id": "163a2d07",
   "metadata": {},
   "outputs": [],
   "source": [
    "condition = (df['YEAR'] >= 1990) & (df['YEAR'] < 2000) & (df['AGE'] == 40)& (df['FEMALE'] == 1)\n",
    "filtered_df = df.loc[condition][['CHILDS', 'DEGREE']].dropna()"
   ]
  },
  {
   "cell_type": "code",
   "execution_count": 58,
   "id": "f8444c2c",
   "metadata": {},
   "outputs": [
    {
     "data": {
      "text/html": [
       "<div>\n",
       "<style scoped>\n",
       "    .dataframe tbody tr th:only-of-type {\n",
       "        vertical-align: middle;\n",
       "    }\n",
       "\n",
       "    .dataframe tbody tr th {\n",
       "        vertical-align: top;\n",
       "    }\n",
       "\n",
       "    .dataframe thead th {\n",
       "        text-align: right;\n",
       "    }\n",
       "</style>\n",
       "<table border=\"1\" class=\"dataframe\">\n",
       "  <thead>\n",
       "    <tr style=\"text-align: right;\">\n",
       "      <th></th>\n",
       "      <th>CHILDS</th>\n",
       "      <th>DEGREE</th>\n",
       "    </tr>\n",
       "  </thead>\n",
       "  <tbody>\n",
       "    <tr>\n",
       "      <th>count</th>\n",
       "      <td>155</td>\n",
       "      <td>155</td>\n",
       "    </tr>\n",
       "    <tr>\n",
       "      <th>unique</th>\n",
       "      <td>7</td>\n",
       "      <td>5</td>\n",
       "    </tr>\n",
       "    <tr>\n",
       "      <th>top</th>\n",
       "      <td>2</td>\n",
       "      <td>1</td>\n",
       "    </tr>\n",
       "    <tr>\n",
       "      <th>freq</th>\n",
       "      <td>51</td>\n",
       "      <td>80</td>\n",
       "    </tr>\n",
       "  </tbody>\n",
       "</table>\n",
       "</div>"
      ],
      "text/plain": [
       "        CHILDS  DEGREE\n",
       "count      155     155\n",
       "unique       7       5\n",
       "top          2       1\n",
       "freq        51      80"
      ]
     },
     "execution_count": 58,
     "metadata": {},
     "output_type": "execute_result"
    }
   ],
   "source": [
    "filtered_df.describe()"
   ]
  },
  {
   "cell_type": "code",
   "execution_count": 54,
   "id": "1aba16e0",
   "metadata": {},
   "outputs": [
    {
     "data": {
      "text/html": [
       "<div>\n",
       "<style scoped>\n",
       "    .dataframe tbody tr th:only-of-type {\n",
       "        vertical-align: middle;\n",
       "    }\n",
       "\n",
       "    .dataframe tbody tr th {\n",
       "        vertical-align: top;\n",
       "    }\n",
       "\n",
       "    .dataframe thead th {\n",
       "        text-align: right;\n",
       "    }\n",
       "</style>\n",
       "<table border=\"1\" class=\"dataframe\">\n",
       "  <thead>\n",
       "    <tr style=\"text-align: right;\">\n",
       "      <th></th>\n",
       "      <th>CHILDS</th>\n",
       "    </tr>\n",
       "  </thead>\n",
       "  <tbody>\n",
       "    <tr>\n",
       "      <th>count</th>\n",
       "      <td>111</td>\n",
       "    </tr>\n",
       "    <tr>\n",
       "      <th>unique</th>\n",
       "      <td>7</td>\n",
       "    </tr>\n",
       "    <tr>\n",
       "      <th>top</th>\n",
       "      <td>2</td>\n",
       "    </tr>\n",
       "    <tr>\n",
       "      <th>freq</th>\n",
       "      <td>38</td>\n",
       "    </tr>\n",
       "  </tbody>\n",
       "</table>\n",
       "</div>"
      ],
      "text/plain": [
       "        CHILDS\n",
       "count      111\n",
       "unique       7\n",
       "top          2\n",
       "freq        38"
      ]
     },
     "execution_count": 54,
     "metadata": {},
     "output_type": "execute_result"
    }
   ],
   "source": [
    "df_low_degree = df_y.loc[(df_y['DEGREE'] < 3)][['CHILDS']]\n",
    "df_low_degree.describe()"
   ]
  },
  {
   "cell_type": "code",
   "execution_count": 55,
   "id": "2e7a5c4a",
   "metadata": {},
   "outputs": [
    {
     "data": {
      "text/html": [
       "<div>\n",
       "<style scoped>\n",
       "    .dataframe tbody tr th:only-of-type {\n",
       "        vertical-align: middle;\n",
       "    }\n",
       "\n",
       "    .dataframe tbody tr th {\n",
       "        vertical-align: top;\n",
       "    }\n",
       "\n",
       "    .dataframe thead th {\n",
       "        text-align: right;\n",
       "    }\n",
       "</style>\n",
       "<table border=\"1\" class=\"dataframe\">\n",
       "  <thead>\n",
       "    <tr style=\"text-align: right;\">\n",
       "      <th></th>\n",
       "      <th>CHILDS</th>\n",
       "    </tr>\n",
       "  </thead>\n",
       "  <tbody>\n",
       "    <tr>\n",
       "      <th>count</th>\n",
       "      <td>44</td>\n",
       "    </tr>\n",
       "    <tr>\n",
       "      <th>unique</th>\n",
       "      <td>5</td>\n",
       "    </tr>\n",
       "    <tr>\n",
       "      <th>top</th>\n",
       "      <td>2</td>\n",
       "    </tr>\n",
       "    <tr>\n",
       "      <th>freq</th>\n",
       "      <td>13</td>\n",
       "    </tr>\n",
       "  </tbody>\n",
       "</table>\n",
       "</div>"
      ],
      "text/plain": [
       "        CHILDS\n",
       "count       44\n",
       "unique       5\n",
       "top          2\n",
       "freq        13"
      ]
     },
     "execution_count": 55,
     "metadata": {},
     "output_type": "execute_result"
    }
   ],
   "source": [
    "df_high_degree = df_y.loc[(df_y['DEGREE'] >= 3)][['CHILDS']]\n",
    "df_high_degree.describe()"
   ]
  },
  {
   "cell_type": "code",
   "execution_count": 60,
   "id": "44c62446",
   "metadata": {},
   "outputs": [
    {
     "name": "stdout",
     "output_type": "stream",
     "text": [
      "CHILDS    111\n",
      "dtype: int64 217\n"
     ]
    }
   ],
   "source": [
    "# duoi pho thong\n",
    "n1 = df_low_degree.count()\n",
    "y1_sum = df_low_degree['CHILDS'].sum()\n",
    "print(n1, y1_sum)"
   ]
  },
  {
   "cell_type": "code",
   "execution_count": 61,
   "id": "a5a86268",
   "metadata": {
    "scrolled": true
   },
   "outputs": [
    {
     "name": "stdout",
     "output_type": "stream",
     "text": [
      "CHILDS    44\n",
      "dtype: int64 66\n"
     ]
    }
   ],
   "source": [
    "# tren pho thong\n",
    "n2 = df_high_degree.count()\n",
    "y2_sum = df_high_degree['CHILDS'].sum()\n",
    "print(n2, y2_sum)"
   ]
  },
  {
   "cell_type": "code",
   "execution_count": 63,
   "id": "67f7d08d",
   "metadata": {},
   "outputs": [],
   "source": [
    "a = 2\n",
    "b =1"
   ]
  },
  {
   "cell_type": "code",
   "execution_count": 64,
   "id": "9032df91",
   "metadata": {},
   "outputs": [
    {
     "name": "stdout",
     "output_type": "stream",
     "text": [
      "Ky vong cua hau nghiem ung voi phu nu co trinh do duoi pho thong:  CHILDS    1.955357\n",
      "dtype: float64\n",
      "Ky vong cua hau nghiem ung voi phu nu co trinh do tren pho thong:  CHILDS    1.511111\n",
      "dtype: float64\n"
     ]
    }
   ],
   "source": [
    "# duoi pho thong\n",
    "e1 = (y1_sum + a)/(n1 + b)\n",
    "\n",
    "# tren pho thong\n",
    "e2 = (y2_sum + a)/(n2 + b)\n",
    "\n",
    "print(\"Ky vong cua hau nghiem ung voi phu nu co trinh do duoi pho thong: \", e1)\n",
    "print(\"Ky vong cua hau nghiem ung voi phu nu co trinh do tren pho thong: \", e2)"
   ]
  },
  {
   "cell_type": "code",
   "execution_count": 91,
   "id": "7aef1047",
   "metadata": {},
   "outputs": [],
   "source": [
    "from scipy.stats import ttest_ind\n",
    "import seaborn as sns\n",
    "import numpy as np"
   ]
  },
  {
   "cell_type": "code",
   "execution_count": 87,
   "id": "7436a283",
   "metadata": {},
   "outputs": [
    {
     "data": {
      "text/plain": [
       "Text(0.5, 1.0, 'Degree < 3')"
      ]
     },
     "execution_count": 87,
     "metadata": {},
     "output_type": "execute_result"
    },
    {
     "data": {
      "image/png": "[encoded data removed]",
      "text/plain": [
       "<Figure size 432x288 with 1 Axes>"
      ]
     },
     "metadata": {
      "needs_background": "light"
     },
     "output_type": "display_data"
    }
   ],
   "source": [
    "sns.countplot(data=df_low_degree, color='green', x=\"CHILDS\").set_title('Degree < 3')"
   ]
  },
  {
   "cell_type": "code",
   "execution_count": 88,
   "id": "81549884",
   "metadata": {},
   "outputs": [
    {
     "data": {
      "text/plain": [
       "Text(0.5, 1.0, 'Degree >= 3')"
      ]
     },
     "execution_count": 88,
     "metadata": {},
     "output_type": "execute_result"
    },
    {
     "data": {
      "image/png": "[encoded data removed]",
      "text/plain": [
       "<Figure size 432x288 with 1 Axes>"
      ]
     },
     "metadata": {
      "needs_background": "light"
     },
     "output_type": "display_data"
    }
   ],
   "source": [
    "sns.countplot(data=df_high_degree, color=\"green\", x=\"CHILDS\").set_title('Degree >= 3')"
   ]
  },
  {
   "cell_type": "code",
   "execution_count": 100,
   "id": "f63d5238",
   "metadata": {},
   "outputs": [],
   "source": [
    "from scipy.stats import ttest_ind"
   ]
  },
  {
   "cell_type": "code",
   "execution_count": 105,
   "id": "9ab94de0",
   "metadata": {},
   "outputs": [],
   "source": [
    "stat, p = ttest_ind(df_low_degree['CHILDS'].to_list(), df_high_degree['CHILDS'].to_list(), axis=0)"
   ]
  },
  {
   "cell_type": "code",
   "execution_count": 106,
   "id": "9c426e67",
   "metadata": {},
   "outputs": [
    {
     "name": "stdout",
     "output_type": "stream",
     "text": [
      "1.9304175709985183 0.055404660390320604\n"
     ]
    }
   ],
   "source": [
    "print(stat, p)"
   ]
  },
  {
   "cell_type": "code",
   "execution_count": null,
   "id": "aa868694",
   "metadata": {},
   "outputs": [],
   "source": []
  }
 ],
 "metadata": {
  "kernelspec": {
   "display_name": "Python 3 (ipykernel)",
   "language": "python",
   "name": "python3"
  },
  "language_info": {
   "codemirror_mode": {
    "name": "ipython",
    "version": 3
   },
   "file_extension": ".py",
   "mimetype": "text/x-python",
   "name": "python",
   "nbconvert_exporter": "python",
   "pygments_lexer": "ipython3",
   "version": "3.8.13"
  }
 },
 "nbformat": 4,
 "nbformat_minor": 5
}
